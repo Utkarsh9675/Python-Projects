{
 "cells": [
  {
   "cell_type": "code",
   "execution_count": 2,
   "metadata": {},
   "outputs": [],
   "source": [
    "### Madlibs"
   ]
  },
  {
   "cell_type": "code",
   "execution_count": 3,
   "metadata": {},
   "outputs": [],
   "source": [
    "# String concatenation (aka how do you put strings together)\n",
    "# Suppose we want to create a string that says subscribe to _____\""
   ]
  },
  {
   "cell_type": "code",
   "execution_count": 8,
   "metadata": {},
   "outputs": [
    {
     "name": "stdout",
     "output_type": "stream",
     "text": [
      "Subscribe to Utkarsh Parashar\n",
      "Subscribe to Utkarsh Parashar\n",
      "Subscribe to Utkarsh Parashar\n"
     ]
    }
   ],
   "source": [
    "# Example\n",
    "youtuber = \"Utkarsh Parashar\"\n",
    "print(\"Subscribe to\", youtuber)\n",
    "print(\"Subscribe to {}\".format(youtuber))\n",
    "print(f\"Subscribe to {youtuber}\")"
   ]
  },
  {
   "cell_type": "code",
   "execution_count": 2,
   "metadata": {},
   "outputs": [
    {
     "name": "stdout",
     "output_type": "stream",
     "text": [
      "Adjective: amazing\n",
      "Verb: skydive\n",
      "Verb: jump\n",
      "famous_person: Captain America\n",
      "Computer programming is so amazing!. It makes me so excited all the time because I love you skydive, stay hydrated and jump like you are a Captain America!\n"
     ]
    }
   ],
   "source": [
    "adj = input(\"Adjective: \")\n",
    "verb1 = input(\"Verb: \")\n",
    "verb2 = input(\"Verb: \")\n",
    "famous_person = input(\"famous_person: \")\n",
    "madlib = f\"Computer programming is so {adj}!. It makes me so excited all the time because \\\n",
    "I love you {verb1}, stay hydrated and {verb2} like you are a {famous_person}!\"\n",
    "\n",
    "print(madlib)"
   ]
  },
  {
   "cell_type": "code",
   "execution_count": 1,
   "metadata": {},
   "outputs": [
    {
     "name": "stdout",
     "output_type": "stream",
     "text": [
      "Adjective: Data Scientist\n",
      "Verb1: Python\n",
      "Verb2: SQL\n",
      "Verb3: lectures\n",
      "Verb4: Doctor Strange\n",
      "marvel: Doctor Strange\n",
      "Well I am a fucking awsome Data Scientist!. I have learned Python like SQL, lectures and some other skillsets.It takes me long hours to complete the Doctor Strange. But now I am confident enough like I am Doctor Strange\n"
     ]
    }
   ],
   "source": [
    "adj = input(\"Adjective: \")\n",
    "verb1 = input(\"Verb1: \")\n",
    "verb2 = input(\"Verb2: \")\n",
    "verb3 = input(\"Verb3: \")\n",
    "verb4 = input(\"Verb4: \")\n",
    "marvel = input(\"marvel: \")\n",
    "df = f\"Well I am a fucking awsome {adj}!. I have learned {verb1} like {verb2}, {verb3} and some other skillsets.\\\n",
    "It takes me long hours to complete the {verb4}. But now I am confident enough like I am {marvel}\"\n",
    "print(df)"
   ]
  },
  {
   "cell_type": "code",
   "execution_count": 2,
   "metadata": {},
   "outputs": [
    {
     "name": "stdout",
     "output_type": "stream",
     "text": [
      "Adjective: Data Scientist\n",
      "Verb1: Python\n",
      "Verb2: SQL\n",
      "Verb3: Machine Learning\n",
      "Verb4: Lectures\n",
      "marvel: Doctor Strange\n",
      "Well I am a fucking awsome Data Scientist!. I have learned Python like SQL, Machine Learning and some other skillsets.It takes me long hours to complete the Lectures. But now I am confident enough like I am Doctor Strange\n"
     ]
    }
   ],
   "source": [
    "adj = input(\"Adjective: \")\n",
    "verb1 = input(\"Verb1: \")\n",
    "verb2 = input(\"Verb2: \")\n",
    "verb3 = input(\"Verb3: \")\n",
    "verb4 = input(\"Verb4: \")\n",
    "marvel = input(\"marvel: \")\n",
    "df = f\"Well I am a fucking awsome {adj}!. I have learned {verb1} like {verb2}, {verb3} and some other skillsets.\\\n",
    "It takes me long hours to complete the {verb4}. But now I am confident enough like I am {marvel}\"\n",
    "print(df)"
   ]
  },
  {
   "cell_type": "code",
   "execution_count": null,
   "metadata": {},
   "outputs": [],
   "source": []
  }
 ],
 "metadata": {
  "kernelspec": {
   "display_name": "Python 3",
   "language": "python",
   "name": "python3"
  },
  "language_info": {
   "codemirror_mode": {
    "name": "ipython",
    "version": 3
   },
   "file_extension": ".py",
   "mimetype": "text/x-python",
   "name": "python",
   "nbconvert_exporter": "python",
   "pygments_lexer": "ipython3",
   "version": "3.6.10"
  }
 },
 "nbformat": 4,
 "nbformat_minor": 4
}
